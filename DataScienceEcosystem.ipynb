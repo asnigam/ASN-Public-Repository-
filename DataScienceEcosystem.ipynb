{
 "cells": [
  {
   "cell_type": "markdown",
   "id": "3c2ce613",
   "metadata": {},
   "source": [
    "# Data Science Tools and Ecosystem"
   ]
  },
  {
   "cell_type": "markdown",
   "id": "f95e8c26",
   "metadata": {},
   "source": [
    "## In this notebook, Data Science Tools and Ecosystem are summarized."
   ]
  },
  {
   "cell_type": "markdown",
   "id": "c1cd43dc",
   "metadata": {},
   "source": [
    "\n",
    "## **Objectives:**\n",
    "### List popular languages for Data Science\n",
    "- R\n",
    "- Julia\n",
    "- Python\n",
    "- Scala\n",
    "- Swift"
   ]
  },
  {
   "cell_type": "code",
   "execution_count": null,
   "id": "0c37e5ed",
   "metadata": {},
   "outputs": [],
   "source": [
    "### Some of the popular languages that Data Scientists use are:\n",
    "    1. Python\n",
    "    2. R\n",
    "    3. Julia"
   ]
  },
  {
   "cell_type": "markdown",
   "id": "793141c0",
   "metadata": {},
   "source": [
    "### Some of the commonly used libraries used by Data Scientists include:\n",
    "    1. TensorFlow\n",
    "    2. NumPy\n",
    "    3. SciPy\n",
    "    4. Panda\n",
    "    5. Matplotlib"
   ]
  },
  {
   "cell_type": "markdown",
   "id": "29a5d188",
   "metadata": {},
   "source": [
    "### Data Science Tools\n",
    "    1. SAS\n",
    "    2. Apache Spark\n",
    "    3. MATLAB\n",
    "    4. Tableau"
   ]
  },
  {
   "cell_type": "markdown",
   "id": "df137248",
   "metadata": {},
   "source": [
    "### Below are a few examples of evaluating arithmetic expressions in Python"
   ]
  },
  {
   "cell_type": "markdown",
   "id": "8b052f99",
   "metadata": {},
   "source": [
    "####  This a simple arithmetic expression to mutiply then add integers"
   ]
  },
  {
   "cell_type": "code",
   "execution_count": 1,
   "id": "65c71054",
   "metadata": {},
   "outputs": [
    {
     "name": "stdout",
     "output_type": "stream",
     "text": [
      "17\n"
     ]
    }
   ],
   "source": [
    "print ((3*4)+5)"
   ]
  },
  {
   "cell_type": "markdown",
   "id": "5c68cada",
   "metadata": {},
   "source": [
    "#### This will convert 200 minutes to hours by diving by 60"
   ]
  },
  {
   "cell_type": "code",
   "execution_count": 2,
   "id": "af36f1a2",
   "metadata": {},
   "outputs": [
    {
     "name": "stdout",
     "output_type": "stream",
     "text": [
      "200 Minutes are  3.3333333333333335 Hours\n"
     ]
    }
   ],
   "source": [
    "print (\"200 Minutes are \",(200/60),\"Hours\")"
   ]
  },
  {
   "cell_type": "markdown",
   "id": "b0ee0819",
   "metadata": {},
   "source": [
    "## Author \n",
    "Abhishek Nigam "
   ]
  }
 ],
 "metadata": {
  "kernelspec": {
   "display_name": "Python 3 (ipykernel)",
   "language": "python",
   "name": "python3"
  },
  "language_info": {
   "codemirror_mode": {
    "name": "ipython",
    "version": 3
   },
   "file_extension": ".py",
   "mimetype": "text/x-python",
   "name": "python",
   "nbconvert_exporter": "python",
   "pygments_lexer": "ipython3",
   "version": "3.10.9"
  }
 },
 "nbformat": 4,
 "nbformat_minor": 5
}
